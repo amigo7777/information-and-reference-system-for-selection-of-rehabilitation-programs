{
  "cells": [
    {
      "cell_type": "markdown",
      "metadata": {
        "id": "xQZvwWRQv99u"
      },
      "source": [
        "импортирование библиотек"
      ]
    },
    {
      "cell_type": "code",
      "execution_count": null,
      "metadata": {
        "id": "m1lRrI1fvW1n"
      },
      "outputs": [],
      "source": [
        "import pandas as pd\n",
        "import numpy as np\n",
        "import matplotlib.pyplot as plt\n",
        "import seaborn as sns\n",
        "\n",
        "from keras.models import Sequential\n",
        "from keras.layers import Dense, Dropout\n",
        "from keras.optimizers import SGD"
      ]
    },
    {
      "cell_type": "code",
      "execution_count": null,
      "metadata": {
        "id": "0tIG6rOFvagD"
      },
      "outputs": [],
      "source": [
        "# преобразование данных в массивы\n",
        "df = pd.read_csv(\"dataset3.csv\",delimiter=';') # используется файл с данными dataset3.csv\n",
        "# просмотр данных\n",
        "df.head()"
      ]
    },
    {
      "cell_type": "code",
      "execution_count": null,
      "metadata": {
        "id": "uhhc0-EVvaxy"
      },
      "outputs": [],
      "source": [
        "X = np.asarray(df.iloc[:, :-1]).astype(np.float32) # массив признаков для определения класса реабилитационных мероприятий\n",
        "y = np.asarray(df.iloc[:, -1]).astype(np.float32) # тип реабилитационной программы"
      ]
    },
    {
      "cell_type": "code",
      "execution_count": null,
      "metadata": {
        "id": "HiiCheYivbEK"
      },
      "outputs": [],
      "source": [
        "print(y)"
      ]
    },
    {
      "cell_type": "markdown",
      "metadata": {
        "id": "e_jOkDSGv4pM"
      },
      "source": [
        "отображение данных на графиках"
      ]
    },
    {
      "cell_type": "code",
      "execution_count": null,
      "metadata": {
        "id": "WYs5fUDUvbfp"
      },
      "outputs": [],
      "source": [
        "sns.kdeplot(df[\"temperature\"], color=\"green\",\n",
        "            shade=True)\n",
        "plt.show()\n",
        "plt.figure()"
      ]
    },
    {
      "cell_type": "code",
      "execution_count": null,
      "metadata": {
        "id": "ixn-qBbnvxp7"
      },
      "outputs": [],
      "source": [
        "df.plot(x=\"disease\", y=\"age\", kind=\"scatter\")"
      ]
    },
    {
      "cell_type": "code",
      "execution_count": null,
      "metadata": {
        "id": "IWqYDXUev3Fb"
      },
      "outputs": [],
      "source": [
        "plt.figure(figsize=(18,15))\n",
        "sns.heatmap(df.corr(),annot=True, fmt=\".2f\")\n",
        "plt.title(\"Correlation Between Features\",fontsize=18,color=\"red\");"
      ]
    },
    {
      "cell_type": "code",
      "execution_count": null,
      "metadata": {
        "id": "Xn-WdBVHwGtx"
      },
      "outputs": [],
      "source": [
        "# инициализация нейронной сети\n",
        "model = Sequential()\n",
        "\n",
        "# слои нейронной сети\n",
        "model.add(Dense(16, input_dim = 30, kernel_initializer = 'uniform', activation = 'relu'))\n",
        "model.add(Dense(8, kernel_initializer = 'uniform', activation = 'relu'))\n",
        "model.add(Dropout(0.25)) # слой для борьбы с переобучением\n",
        "model.add(Dense(4, kernel_initializer = 'uniform', activation = 'relu'))\n",
        "model.add(Dropout(0.5))\n",
        "model.add(Dense(1, kernel_initializer = 'uniform', activation = 'sigmoid'))\n",
        "\n",
        "# компиляция ANN\n",
        "model.compile(loss='binary_crossentropy', optimizer='adam', metrics=['accuracy'])\n"
      ]
    },
    {
      "cell_type": "code",
      "execution_count": null,
      "metadata": {
        "id": "fx5OoCfpwvkq"
      },
      "outputs": [],
      "source": [
        "# обучение нейронной сети\n",
        "history = model.fit(X, y, epochs=100, batch_size=10, validation_split=0.2)"
      ]
    },
    {
      "cell_type": "code",
      "execution_count": null,
      "metadata": {
        "id": "cGMJrJnKyveh"
      },
      "outputs": [],
      "source": [
        "history_dict = history.history"
      ]
    },
    {
      "cell_type": "code",
      "execution_count": null,
      "metadata": {
        "id": "_Z8jbFmlyv6o"
      },
      "outputs": [],
      "source": [
        "history_dict['accuracy']"
      ]
    },
    {
      "cell_type": "markdown",
      "metadata": {
        "id": "PsdQaJ_Qy2O4"
      },
      "source": [
        "#Просмотр результатов обучения на графиках"
      ]
    },
    {
      "cell_type": "markdown",
      "metadata": {
        "id": "2Glh-jLtzLvm"
      },
      "source": [
        "просмотр результатов потерь на этапе обучения"
      ]
    },
    {
      "cell_type": "code",
      "execution_count": null,
      "metadata": {
        "id": "MJJLwR0qyyQu"
      },
      "outputs": [],
      "source": [
        "import matplotlib.pyplot as plt\n",
        "\n",
        "history_dict = history.history\n",
        "loss_values = history_dict['loss']\n",
        "# val_loss_values = history_dict['val_loss']\n",
        "\n",
        "epochs = range(1, len(history_dict['accuracy']) + 1)\n",
        "\n",
        "plt.plot(epochs, loss_values, '#6daa9f', label='Потери на этапе обучения')\n",
        "# plt.plot(epochs, val_loss_values, 'b', label='Потери на этапе проверки') \n",
        "plt.title('Training and validation loss')\n",
        "plt.xlabel('Эпохи')\n",
        "plt.ylabel('Потери')\n",
        "plt.legend(loc=\"best\")\n",
        "\n",
        "plt.show()"
      ]
    },
    {
      "cell_type": "markdown",
      "metadata": {
        "id": "-MMtw0jvzU_Q"
      },
      "source": [
        "просмотр результатов точности модели на этапе обучения"
      ]
    },
    {
      "cell_type": "code",
      "execution_count": null,
      "metadata": {
        "id": "Gq5SnB6my7Cp"
      },
      "outputs": [],
      "source": [
        "plt.clf()\n",
        "\n",
        "acc_values = history_dict['accuracy']\n",
        "# val_acc_values = history_dict['val_acc']\n",
        "plt.plot(epochs, history_dict['accuracy'], '#774571', label='Training acc')\n",
        "# plt.plot(epochs, history_dict['val_acc'], 'b', label='Validation acc')\n",
        "plt.title('Training and validation accuracy')\n",
        "plt.xlabel('Epochs')\n",
        "plt.ylabel('Accuracy')\n",
        "plt.legend()\n",
        "\n",
        "plt.show()"
      ]
    },
    {
      "attachments": {},
      "cell_type": "markdown",
      "metadata": {},
      "source": [
        "далее представлена схема модели"
      ]
    },
    {
      "cell_type": "code",
      "execution_count": null,
      "metadata": {},
      "outputs": [],
      "source": [
        "\n",
        "dot_img_file = '/tmp/model_1.png'\n",
        "keras.utils.plot_model(model, to_file=dot_img_file, show_shapes=True)"
      ]
    }
  ],
  "metadata": {
    "colab": {
      "provenance": []
    },
    "kernelspec": {
      "display_name": "Python 3",
      "name": "python3"
    },
    "language_info": {
      "name": "python"
    }
  },
  "nbformat": 4,
  "nbformat_minor": 0
}
